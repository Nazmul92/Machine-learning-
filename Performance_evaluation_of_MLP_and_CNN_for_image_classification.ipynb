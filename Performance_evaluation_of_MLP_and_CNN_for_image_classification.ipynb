{
  "nbformat": 4,
  "nbformat_minor": 0,
  "metadata": {
    "colab": {
      "provenance": [],
      "authorship_tag": "ABX9TyN5Nx+FaDakQcIsVQfVyERM",
      "include_colab_link": true
    },
    "kernelspec": {
      "name": "python3",
      "display_name": "Python 3"
    },
    "language_info": {
      "name": "python"
    },
    "accelerator": "GPU",
    "gpuClass": "standard"
  },
  "cells": [
    {
      "cell_type": "markdown",
      "metadata": {
        "id": "view-in-github",
        "colab_type": "text"
      },
      "source": [
        "<a href=\"https://colab.research.google.com/github/Nazmul92/Machine-learning-/blob/main/Performance_evaluation_of_MLP_and_CNN_for_image_classification.ipynb\" target=\"_parent\"><img src=\"https://colab.research.google.com/assets/colab-badge.svg\" alt=\"Open In Colab\"/></a>"
      ]
    },
    {
      "cell_type": "markdown",
      "source": [
        "# Import library"
      ],
      "metadata": {
        "id": "T2Of8hkcK4Xq"
      }
    },
    {
      "cell_type": "code",
      "execution_count": 1,
      "metadata": {
        "id": "5fw8nlBuvH8t"
      },
      "outputs": [],
      "source": [
        "import torch as th\n",
        "import torch.nn as nn\n",
        "import numpy as np\n",
        "import torch.nn.functional as F\n",
        "from torch.nn import CrossEntropyLoss\n",
        "from torchvision import datasets\n",
        "import torchvision.transforms as transforms\n",
        "import matplotlib.pyplot as plt\n",
        "from torch.utils.data.sampler import SubsetRandomSampler"
      ]
    },
    {
      "cell_type": "markdown",
      "source": [
        "# Device setting (GPU or CPU)"
      ],
      "metadata": {
        "id": "wuDtxSDPLAAg"
      }
    },
    {
      "cell_type": "code",
      "source": [
        "train_gpu = th.cuda.is_available()\n",
        "if not train_gpu:\n",
        "  print('cuda is not available')\n",
        "else:\n",
        "  print('cuda is available')"
      ],
      "metadata": {
        "colab": {
          "base_uri": "https://localhost:8080/"
        },
        "id": "UogOzzMU2gpj",
        "outputId": "2e034bbd-21c0-45d1-a219-adb20a1ad3a9"
      },
      "execution_count": 2,
      "outputs": [
        {
          "output_type": "stream",
          "name": "stdout",
          "text": [
            "cuda is available\n"
          ]
        }
      ]
    },
    {
      "cell_type": "markdown",
      "source": [
        "# Load MNIST dataset"
      ],
      "metadata": {
        "id": "hFBomRRrMAHX"
      }
    },
    {
      "cell_type": "code",
      "source": [
        "batch_size = 100\n",
        "valid_size = 0.2\n",
        "transform = transforms.ToTensor()\n",
        "\n",
        "train_data = datasets.MNIST(root='data',train=True,download=True,\n",
        "                            transform=transform)\n",
        "\n",
        "test_data = datasets.MNIST(root='data', train=False, download=True,\n",
        "                           transform=transform)"
      ],
      "metadata": {
        "id": "mhtjrJ5zxXi6"
      },
      "execution_count": null,
      "outputs": []
    },
    {
      "cell_type": "markdown",
      "source": [
        "# Split training set into training and validation"
      ],
      "metadata": {
        "id": "-HK8sApQMKm6"
      }
    },
    {
      "cell_type": "code",
      "source": [
        "num_train = len(train_data)\n",
        "indices = list(range(num_train))\n",
        "np.random.shuffle(indices)\n",
        "\n",
        "split = int(np.floor(valid_size*num_train))                            ## split 20% training data as a validation set\n",
        "train_idx, valid_idx = indices[split:], indices[:split]\n",
        "\n",
        "trainSampler = SubsetRandomSampler(train_idx)\n",
        "validSampler = SubsetRandomSampler(valid_idx)\n",
        "\n",
        "train_loader = th.utils.data.DataLoader(train_data,batch_size=batch_size,             ## dataload for training\n",
        "                                        sampler=trainSampler,num_workers=0)\n",
        "\n",
        "valid_loader = th.utils.data.DataLoader(train_data,batch_size=batch_size,             ## dataload for validation\n",
        "                                       sampler=validSampler, num_workers=0)\n",
        "\n",
        "test_loader = th.utils.data.DataLoader(test_data,batch_size=batch_size, num_workers=0)    ## dataload for testing set"
      ],
      "metadata": {
        "id": "DW9tAoAPxw_i"
      },
      "execution_count": 4,
      "outputs": []
    },
    {
      "cell_type": "code",
      "source": [
        "len(train_loader)                     ## check train loader length"
      ],
      "metadata": {
        "colab": {
          "base_uri": "https://localhost:8080/"
        },
        "id": "7YZnGqTXySJa",
        "outputId": "78dfcb0b-d068-4ad9-f4c7-6fbb114bb7a5"
      },
      "execution_count": null,
      "outputs": [
        {
          "output_type": "execute_result",
          "data": {
            "text/plain": [
              "480"
            ]
          },
          "metadata": {},
          "execution_count": 7
        }
      ]
    },
    {
      "cell_type": "code",
      "source": [
        "sample = next(iter(train_loader))              ## make sample iterator"
      ],
      "metadata": {
        "id": "rw8Pkb8ry-Ii"
      },
      "execution_count": null,
      "outputs": []
    },
    {
      "cell_type": "code",
      "source": [
        "len(sample)                                    ## length of each sample ( image and label)"
      ],
      "metadata": {
        "colab": {
          "base_uri": "https://localhost:8080/"
        },
        "id": "JPfX59zSzTAK",
        "outputId": "309da9fa-9483-4ca7-9d7f-ed7664e5c365"
      },
      "execution_count": null,
      "outputs": [
        {
          "output_type": "execute_result",
          "data": {
            "text/plain": [
              "2"
            ]
          },
          "metadata": {},
          "execution_count": 9
        }
      ]
    },
    {
      "cell_type": "code",
      "source": [
        "image, label = sample                          ## unsequence of sample into image and label"
      ],
      "metadata": {
        "id": "PEfWfJpSzV0S"
      },
      "execution_count": null,
      "outputs": []
    },
    {
      "cell_type": "code",
      "source": [
        "image.shape                                    ## check image shape"
      ],
      "metadata": {
        "colab": {
          "base_uri": "https://localhost:8080/"
        },
        "id": "KoXRfgE1zcyK",
        "outputId": "618bb735-56ad-4e68-c1cf-472752a329fb"
      },
      "execution_count": null,
      "outputs": [
        {
          "output_type": "execute_result",
          "data": {
            "text/plain": [
              "torch.Size([100, 1, 28, 28])"
            ]
          },
          "metadata": {},
          "execution_count": 11
        }
      ]
    },
    {
      "cell_type": "code",
      "source": [
        "plt.imshow(image[0].squeeze())                 ## plot a single image"
      ],
      "metadata": {
        "colab": {
          "base_uri": "https://localhost:8080/",
          "height": 282
        },
        "id": "8wdM8Pxs8AQp",
        "outputId": "b97a5e6d-4712-4a43-dca3-e8d0568edefd"
      },
      "execution_count": null,
      "outputs": [
        {
          "output_type": "execute_result",
          "data": {
            "text/plain": [
              "<matplotlib.image.AxesImage at 0x7fa085c297f0>"
            ]
          },
          "metadata": {},
          "execution_count": 11
        },
        {
          "output_type": "display_data",
          "data": {
            "text/plain": [
              "<Figure size 432x288 with 1 Axes>"
            ],
            "image/png": "[encoded data removed]"
          },
          "metadata": {
            "needs_background": "light"
          }
        }
      ]
    },
    {
      "cell_type": "markdown",
      "source": [
        "# Ploting a multiple samples"
      ],
      "metadata": {
        "id": "w8nH6UuuNtt3"
      }
    },
    {
      "cell_type": "code",
      "source": [
        "train_loader_img = th.utils.data.DataLoader(train_data,batch_size=1,num_workers=0)\n",
        "\n",
        "plt.figure(figsize=(50,50))\n",
        "for i, batch in enumerate(train_loader_img, start=1):\n",
        "    image, label = batch\n",
        "    plt.subplot(10,10,i)\n",
        "    plt.imshow(image.reshape(28,28))\n",
        "    plt.axis('off')\n",
        "    if (i >= 20): break\n",
        "plt.show()"
      ],
      "metadata": {
        "colab": {
          "base_uri": "https://localhost:8080/",
          "height": 223
        },
        "id": "9ByWWbh0_RnJ",
        "outputId": "f3ad987d-115c-4b25-8509-7773e79c103d"
      },
      "execution_count": 5,
      "outputs": [
        {
          "output_type": "display_data",
          "data": {
            "text/plain": [
              "<Figure size 3600x3600 with 20 Axes>"
            ],
            "image/png": "[encoded data removed]"
          },
          "metadata": {
            "needs_background": "light"
          }
        }
      ]
    },
    {
      "cell_type": "markdown",
      "source": [
        "# Define multi-layer perceptron (MLP)"
      ],
      "metadata": {
        "id": "dahOI65oBRt5"
      }
    },
    {
      "cell_type": "code",
      "source": [
        "class Net(nn.Module):                                       \n",
        "  def __init__(self) -> None:\n",
        "     super().__init__()\n",
        "     h_layer1 = 512\n",
        "     h_layer2 = 512\n",
        "     self.fc1 = nn.Linear(28*28, h_layer1)\n",
        "     self.fc2 = nn.Linear(h_layer1,h_layer2)\n",
        "     self.fc3 = nn.Linear(h_layer2,10)\n",
        "     self.dropout = nn.Dropout(0.2)\n",
        "\n",
        "  def forward(self,x):\n",
        "    x = x.view(-1, 28*28)\n",
        "    x = F.relu(self.fc1(x))\n",
        "    x = self.dropout(x)\n",
        "    x = F.relu(self.fc2(x))\n",
        "    x = self.dropout(x)\n",
        "    x = self.fc3(x)\n",
        "    return x"
      ],
      "metadata": {
        "id": "2P898pwyBsef"
      },
      "execution_count": 10,
      "outputs": []
    },
    {
      "cell_type": "markdown",
      "source": [
        "# MLP model instance"
      ],
      "metadata": {
        "id": "L8IAjOj2OGc_"
      }
    },
    {
      "cell_type": "code",
      "source": [
        "model = Net()\n",
        "criterion = CrossEntropyLoss()                                         ## define loss for multiclass classification\n",
        "opt = th.optim.SGD(params=model.parameters(), lr=0.1)                  ## define optimizer with learning rate "
      ],
      "metadata": {
        "id": "95J-BJ51DZEY"
      },
      "execution_count": 11,
      "outputs": []
    },
    {
      "cell_type": "markdown",
      "source": [
        "# MLP model training and save the best model"
      ],
      "metadata": {
        "id": "JajFvMg3JE24"
      }
    },
    {
      "cell_type": "code",
      "source": [
        "_train_loss = []\n",
        "_valid_loss = []\n",
        "valid_loss_min = np.Inf\n",
        "epoch = 30\n",
        "\n",
        "for epoch in range(epoch):                        ## loop for epoch\n",
        "  train_loss = 0.0\n",
        "  valid_loss = 0.0\n",
        "\n",
        "  for image, label in train_loader:                  ## loop for batch (train loader)\n",
        "    opt.zero_grad()\n",
        "    pred = model(image)\n",
        "    loss = criterion(pred,label)\n",
        "    loss.backward()\n",
        "    opt.step()\n",
        "    train_loss+=loss.item()*image.size(0)\n",
        " \n",
        "  for image, label in valid_loader:                  ## loop for valid loader\n",
        "    pred = model(image)\n",
        "    loss = criterion(pred,label)\n",
        "    valid_loss+=loss.item()*image.size(0)\n",
        "\n",
        "  train_loss = train_loss / len(train_loader.dataset)                ## loss calculation of each epoch\n",
        "  valid_loss = valid_loss / len(valid_loader.dataset)\n",
        "  _train_loss.append(train_loss)\n",
        "  _valid_loss.append(valid_loss)\n",
        "  print('Epoch: {} \\ttrain_loss: {:.6f} \\tvalid_loss: {:.6f}'.format(epoch+1,train_loss,valid_loss))\n",
        "\n",
        "  if valid_loss<=valid_loss_min:                                 ## save model (best model) when validation loss starts increasing\n",
        "    th.save(model.state_dict(), 'model.pt')\n",
        "    print('Epoch: {}'.format(epoch))\n",
        "    valid_loss_min = valid_loss"
      ],
      "metadata": {
        "id": "SgvdOwk0EW73",
        "colab": {
          "base_uri": "https://localhost:8080/"
        },
        "outputId": "851064d9-b962-49e2-fe72-4e467e494a3b"
      },
      "execution_count": 12,
      "outputs": [
        {
          "output_type": "stream",
          "name": "stdout",
          "text": [
            "Epoch: 1 \ttrain_loss: 0.537830 \tvalid_loss: 0.065212\n",
            "Epoch: 0\n",
            "Epoch: 2 \ttrain_loss: 0.213253 \tvalid_loss: 0.045606\n",
            "Epoch: 1\n",
            "Epoch: 3 \ttrain_loss: 0.153779 \tvalid_loss: 0.036267\n",
            "Epoch: 2\n",
            "Epoch: 4 \ttrain_loss: 0.121020 \tvalid_loss: 0.030336\n",
            "Epoch: 3\n",
            "Epoch: 5 \ttrain_loss: 0.099356 \tvalid_loss: 0.026525\n",
            "Epoch: 4\n",
            "Epoch: 6 \ttrain_loss: 0.082828 \tvalid_loss: 0.024592\n",
            "Epoch: 5\n",
            "Epoch: 7 \ttrain_loss: 0.071156 \tvalid_loss: 0.022628\n",
            "Epoch: 6\n",
            "Epoch: 8 \ttrain_loss: 0.062840 \tvalid_loss: 0.020378\n",
            "Epoch: 7\n",
            "Epoch: 9 \ttrain_loss: 0.056269 \tvalid_loss: 0.020471\n",
            "Epoch: 10 \ttrain_loss: 0.049150 \tvalid_loss: 0.019593\n",
            "Epoch: 9\n",
            "Epoch: 11 \ttrain_loss: 0.046001 \tvalid_loss: 0.018715\n",
            "Epoch: 10\n",
            "Epoch: 12 \ttrain_loss: 0.040009 \tvalid_loss: 0.018890\n",
            "Epoch: 13 \ttrain_loss: 0.036012 \tvalid_loss: 0.018336\n",
            "Epoch: 12\n",
            "Epoch: 14 \ttrain_loss: 0.033892 \tvalid_loss: 0.017329\n",
            "Epoch: 13\n",
            "Epoch: 15 \ttrain_loss: 0.029859 \tvalid_loss: 0.017225\n",
            "Epoch: 14\n",
            "Epoch: 16 \ttrain_loss: 0.028183 \tvalid_loss: 0.018460\n",
            "Epoch: 17 \ttrain_loss: 0.024795 \tvalid_loss: 0.017382\n",
            "Epoch: 18 \ttrain_loss: 0.023027 \tvalid_loss: 0.016635\n",
            "Epoch: 17\n",
            "Epoch: 19 \ttrain_loss: 0.020626 \tvalid_loss: 0.016526\n",
            "Epoch: 18\n",
            "Epoch: 20 \ttrain_loss: 0.019071 \tvalid_loss: 0.017045\n",
            "Epoch: 21 \ttrain_loss: 0.018374 \tvalid_loss: 0.016887\n",
            "Epoch: 22 \ttrain_loss: 0.016526 \tvalid_loss: 0.017760\n",
            "Epoch: 23 \ttrain_loss: 0.014814 \tvalid_loss: 0.017124\n",
            "Epoch: 24 \ttrain_loss: 0.013888 \tvalid_loss: 0.017487\n",
            "Epoch: 25 \ttrain_loss: 0.012797 \tvalid_loss: 0.017654\n",
            "Epoch: 26 \ttrain_loss: 0.012203 \tvalid_loss: 0.017597\n",
            "Epoch: 27 \ttrain_loss: 0.012350 \tvalid_loss: 0.016455\n",
            "Epoch: 26\n",
            "Epoch: 28 \ttrain_loss: 0.010696 \tvalid_loss: 0.017088\n",
            "Epoch: 29 \ttrain_loss: 0.010298 \tvalid_loss: 0.018554\n",
            "Epoch: 30 \ttrain_loss: 0.008427 \tvalid_loss: 0.016602\n"
          ]
        }
      ]
    },
    {
      "cell_type": "markdown",
      "source": [
        "# Plotting training loss and validation loss (MLP)"
      ],
      "metadata": {
        "id": "7OhRMUUhQm2h"
      }
    },
    {
      "cell_type": "code",
      "source": [
        "plt.plot(_train_loss)\n",
        "plt.plot(_valid_loss)\n",
        "plt.title('Training loss and validation loss (MLP)')\n",
        "plt.xlabel('Epoch')\n",
        "plt.ylabel('Loss')"
      ],
      "metadata": {
        "colab": {
          "base_uri": "https://localhost:8080/",
          "height": 312
        },
        "id": "ZK3kS5F9FIwc",
        "outputId": "00c36310-638c-4769-b34b-872b13c621cb"
      },
      "execution_count": 13,
      "outputs": [
        {
          "output_type": "execute_result",
          "data": {
            "text/plain": [
              "Text(0, 0.5, 'Loss')"
            ]
          },
          "metadata": {},
          "execution_count": 13
        },
        {
          "output_type": "display_data",
          "data": {
            "text/plain": [
              "<Figure size 432x288 with 1 Axes>"
            ],
            "image/png": "[encoded data removed]"
          },
          "metadata": {
            "needs_background": "light"
          }
        }
      ]
    },
    {
      "cell_type": "markdown",
      "source": [
        "# MLP model testing"
      ],
      "metadata": {
        "id": "QOQIa0q7Qe3H"
      }
    },
    {
      "cell_type": "code",
      "source": [
        "model.load_state_dict(th.load('model.pt'))                    ## model load\n",
        "\n",
        "test_loss = 0.0\n",
        "class_correct = list(0. for i in range(10))                   ## initialize lists to monitor test loss and accuracy\n",
        "class_total = list(0. for i in range(10))\n",
        "\n",
        "model.eval()                                                  ## prep model for evaluation\n",
        "\n",
        "for data, target in test_loader:                              ## loop for batch\n",
        "    output = model(data)\n",
        "    loss = criterion(output, target)                          ## calculate the loss\n",
        "    test_loss += loss.item()*data.size(0)                     ## calculate cumulative loss\n",
        "    _, pred = th.max(output, 1)                               ## convert output probabilities to predicted class\n",
        "    correct = np.squeeze(pred.eq(target.data.view_as(pred)))  ## compare predictions to true label\n",
        "    \n",
        "\n",
        "    for i in range(batch_size):                               ## calculate test accuracy for each object class\n",
        "        label = target.data[i]\n",
        "        class_correct[label] += correct[i].item()\n",
        "        class_total[label] += 1\n",
        "\n",
        "\n",
        "test_loss = test_loss/len(test_loader.dataset)               ## calculate and print avg test loss\n",
        "print('Test Loss: {:.6f}\\n'.format(test_loss))\n",
        "\n",
        "for i in range(10):\n",
        "    if class_total[i] > 0:\n",
        "        print('Test Accuracy of %5s: %2d%% (%2d/%2d)' % (\n",
        "            str(i), 100 * class_correct[i] / class_total[i],\n",
        "            np.sum(class_correct[i]), np.sum(class_total[i])))\n",
        "    else:\n",
        "        print('Test Accuracy of %5s: N/A (no training examples)')\n",
        "\n",
        "print('\\nTest Accuracy (Overall): %2d%% (%2d/%2d)' % (\n",
        "    100. * np.sum(class_correct) / np.sum(class_total),\n",
        "    np.sum(class_correct), np.sum(class_total)))"
      ],
      "metadata": {
        "colab": {
          "base_uri": "https://localhost:8080/"
        },
        "id": "ZqzPyLZ_Iyi0",
        "outputId": "fc349d2d-7134-43ed-de23-a747c3fe4164"
      },
      "execution_count": 14,
      "outputs": [
        {
          "output_type": "stream",
          "name": "stdout",
          "text": [
            "Test Loss: 0.060350\n",
            "\n",
            "Test Accuracy of     0: 98% (970/980)\n",
            "Test Accuracy of     1: 99% (1129/1135)\n",
            "Test Accuracy of     2: 98% (1016/1032)\n",
            "Test Accuracy of     3: 98% (993/1010)\n",
            "Test Accuracy of     4: 98% (964/982)\n",
            "Test Accuracy of     5: 97% (874/892)\n",
            "Test Accuracy of     6: 97% (937/958)\n",
            "Test Accuracy of     7: 97% (998/1028)\n",
            "Test Accuracy of     8: 97% (954/974)\n",
            "Test Accuracy of     9: 96% (978/1009)\n",
            "\n",
            "Test Accuracy (Overall): 98% (9813/10000)\n"
          ]
        }
      ]
    },
    {
      "cell_type": "markdown",
      "source": [
        "# CNN for classification"
      ],
      "metadata": {
        "id": "K5yvh2SM2LmR"
      }
    },
    {
      "cell_type": "code",
      "source": [
        "## model class (inherit nn class)\n",
        "class Net(nn.Module):\n",
        "  def __init__(self) -> None:\n",
        "     super().__init__()\n",
        "     self.conv1 = nn.Conv2d(1,16,5, padding = 2)                 ## input channel 1 (gray image), output channel 16, filter size 5\n",
        "     self.conv2 = nn.Conv2d(16,32,5,padding=2)                   ## input channel 16 (previous leayer output), output channel 32, filter size 5\n",
        "     self.pool = nn.MaxPool2d(2,2)                               ## Pooling size 2, and stride 2\n",
        "     self.fc1 = nn.Linear(32*7*7, 500)                           ## 32x7x7 (flatten input), 500 (output neuron)\n",
        "     self.fc2 = nn.Linear(500,10)                                ## 500 (input neuron from previous fully connected layer), 10 for 10 classes\n",
        "     self.dropout = nn.Dropout(0.2)                              ## 0.2 for 20% dropout to reduce overfitting\n",
        "  \n",
        "  def forward(self,x):                                           ## define forward pass\n",
        "    x = self.pool(F.relu(self.conv1(x)))                         ## calling first conv layer, passing the output to relu activation function, finally passing to pooling layer\n",
        "    x = self.pool(F.relu(self.conv2(x)))                         ## same for second conv layer\n",
        "    x = x.view(-1, 32*7*7)                                       ## flatten the output from last conv layer\n",
        "    x = self.dropout(x)                                          ## calling dropout layer\n",
        "    x = F.relu(self.fc1(x))                                      ## calling first fully-connected layer\n",
        "    x = self.dropout(x)\n",
        "    x = self.fc2(x)\n",
        "    return x\n",
        "\n",
        "model = Net()                                      ## create a object of model class\n",
        "print(model)\n",
        "\n",
        "if train_gpu:                                      ## model set to gpu if train on cuda\n",
        "  model.cuda\n",
        "\n",
        "criterion = CrossEntropyLoss()                                 ## define loss function for multiclass classification\n",
        "opt = th.optim.SGD(params=model.parameters(), lr=0.1)          ## define optimizer (Stochastic gradient descent) with learning rate 0.1"
      ],
      "metadata": {
        "colab": {
          "base_uri": "https://localhost:8080/"
        },
        "id": "WoSDT9xP2Kvv",
        "outputId": "003f1932-c27c-4287-a67a-0200010f7692"
      },
      "execution_count": 15,
      "outputs": [
        {
          "output_type": "stream",
          "name": "stdout",
          "text": [
            "Net(\n",
            "  (conv1): Conv2d(1, 16, kernel_size=(5, 5), stride=(1, 1), padding=(2, 2))\n",
            "  (conv2): Conv2d(16, 32, kernel_size=(5, 5), stride=(1, 1), padding=(2, 2))\n",
            "  (pool): MaxPool2d(kernel_size=2, stride=2, padding=0, dilation=1, ceil_mode=False)\n",
            "  (fc1): Linear(in_features=1568, out_features=500, bias=True)\n",
            "  (fc2): Linear(in_features=500, out_features=10, bias=True)\n",
            "  (dropout): Dropout(p=0.2, inplace=False)\n",
            ")\n"
          ]
        }
      ]
    },
    {
      "cell_type": "markdown",
      "source": [
        "# Model training and calculating training loss and validation loss"
      ],
      "metadata": {
        "id": "0yFtEhKyS5Vq"
      }
    },
    {
      "cell_type": "code",
      "source": [
        "from torch.optim import Optimizer\n",
        "_train_loss = []                                  ## define empty list to store train loss\n",
        "_valid_loss = []\n",
        "valid_loss_min = np.Inf                           ## define valid loss minimum is infinity\n",
        "\n",
        "for epoch in range(30):                           ## loop for epoch\n",
        "  train_loss = 0.0\n",
        "  valid_loss = 0.0\n",
        "\n",
        "  for image, label in train_loader:               ## loop for batch iteration\n",
        "    opt.zero_grad()                               ## set optimizer is zero\n",
        "    pred = model(image)                           ## model prediction\n",
        "    loss = criterion(pred,label)                  ## loss calculation\n",
        "    loss.backward()                               ## backward pass\n",
        "    opt.step()                                    ## weight update\n",
        "    train_loss+=loss.item()*image.size(0)         ## calculate cumulative training loss\n",
        " \n",
        "  for image, label in valid_loader:               ## loop for valid loss \n",
        "    pred = model(image)\n",
        "    loss = criterion(pred,label)\n",
        "    valid_loss+=loss.item()*image.size(0)\n",
        "\n",
        "  train_loss = train_loss / len(train_loader.dataset)      ## loss after each epoch\n",
        "  valid_loss = valid_loss / len(valid_loader.dataset)\n",
        "  _train_loss.append(train_loss)\n",
        "  _valid_loss.append(valid_loss)\n",
        "  print('Epoch: {} \\ttrain_loss: {:.6f} \\tvalid_loss: {:.6f}'.format(epoch+1,train_loss,valid_loss))\n",
        "\n",
        "  if valid_loss<=valid_loss_min:                         ## save model when validation loss starts incresing\n",
        "    th.save(model.state_dict(), 'model.pt')\n",
        "    print('Epoch: {}'.format(epoch))\n",
        "    valid_loss_min = valid_loss"
      ],
      "metadata": {
        "colab": {
          "base_uri": "https://localhost:8080/"
        },
        "id": "nniPNFohKSXS",
        "outputId": "a96d0214-e113-49b8-bb7a-0ae2b87745de"
      },
      "execution_count": 16,
      "outputs": [
        {
          "output_type": "stream",
          "name": "stdout",
          "text": [
            "Epoch: 1 \ttrain_loss: 0.347798 \tvalid_loss: 0.023480\n",
            "Epoch: 0\n",
            "Epoch: 2 \ttrain_loss: 0.080361 \tvalid_loss: 0.016258\n",
            "Epoch: 1\n",
            "Epoch: 3 \ttrain_loss: 0.059811 \tvalid_loss: 0.013581\n",
            "Epoch: 2\n",
            "Epoch: 4 \ttrain_loss: 0.046289 \tvalid_loss: 0.014139\n",
            "Epoch: 5 \ttrain_loss: 0.039670 \tvalid_loss: 0.012247\n",
            "Epoch: 4\n",
            "Epoch: 6 \ttrain_loss: 0.033078 \tvalid_loss: 0.012299\n",
            "Epoch: 7 \ttrain_loss: 0.030671 \tvalid_loss: 0.011269\n",
            "Epoch: 6\n",
            "Epoch: 8 \ttrain_loss: 0.025633 \tvalid_loss: 0.010216\n",
            "Epoch: 7\n",
            "Epoch: 9 \ttrain_loss: 0.023946 \tvalid_loss: 0.010187\n",
            "Epoch: 8\n",
            "Epoch: 10 \ttrain_loss: 0.021452 \tvalid_loss: 0.011338\n",
            "Epoch: 11 \ttrain_loss: 0.020103 \tvalid_loss: 0.010505\n",
            "Epoch: 12 \ttrain_loss: 0.017749 \tvalid_loss: 0.009770\n",
            "Epoch: 11\n",
            "Epoch: 13 \ttrain_loss: 0.016363 \tvalid_loss: 0.008798\n",
            "Epoch: 12\n",
            "Epoch: 14 \ttrain_loss: 0.014526 \tvalid_loss: 0.008361\n",
            "Epoch: 13\n",
            "Epoch: 15 \ttrain_loss: 0.015035 \tvalid_loss: 0.009811\n",
            "Epoch: 16 \ttrain_loss: 0.014832 \tvalid_loss: 0.010171\n",
            "Epoch: 17 \ttrain_loss: 0.013327 \tvalid_loss: 0.008556\n",
            "Epoch: 18 \ttrain_loss: 0.011462 \tvalid_loss: 0.009528\n",
            "Epoch: 19 \ttrain_loss: 0.011431 \tvalid_loss: 0.008939\n",
            "Epoch: 20 \ttrain_loss: 0.010585 \tvalid_loss: 0.008817\n",
            "Epoch: 21 \ttrain_loss: 0.009287 \tvalid_loss: 0.008607\n",
            "Epoch: 22 \ttrain_loss: 0.009870 \tvalid_loss: 0.008876\n",
            "Epoch: 23 \ttrain_loss: 0.008791 \tvalid_loss: 0.009623\n",
            "Epoch: 24 \ttrain_loss: 0.008800 \tvalid_loss: 0.009341\n",
            "Epoch: 25 \ttrain_loss: 0.007964 \tvalid_loss: 0.009872\n",
            "Epoch: 26 \ttrain_loss: 0.006411 \tvalid_loss: 0.008843\n",
            "Epoch: 27 \ttrain_loss: 0.007088 \tvalid_loss: 0.009259\n",
            "Epoch: 28 \ttrain_loss: 0.006909 \tvalid_loss: 0.009162\n",
            "Epoch: 29 \ttrain_loss: 0.007243 \tvalid_loss: 0.009458\n",
            "Epoch: 30 \ttrain_loss: 0.006559 \tvalid_loss: 0.009144\n"
          ]
        }
      ]
    },
    {
      "cell_type": "markdown",
      "source": [
        "# Plotting training loss and validation loss"
      ],
      "metadata": {
        "id": "k9Sqq1-qU3-n"
      }
    },
    {
      "cell_type": "code",
      "source": [
        "plt.plot(_train_loss)\n",
        "plt.plot(_valid_loss)\n",
        "plt.title('Traning loss and validation loss')\n",
        "plt.xlabel('Epoch')\n",
        "plt.ylabel(\"Loss\")"
      ],
      "metadata": {
        "id": "vSjcnGZ2KT3r",
        "colab": {
          "base_uri": "https://localhost:8080/",
          "height": 312
        },
        "outputId": "51b8d343-7340-425f-f0c8-7ab4d44923ba"
      },
      "execution_count": 17,
      "outputs": [
        {
          "output_type": "execute_result",
          "data": {
            "text/plain": [
              "Text(0, 0.5, 'Loss')"
            ]
          },
          "metadata": {},
          "execution_count": 17
        },
        {
          "output_type": "display_data",
          "data": {
            "text/plain": [
              "<Figure size 432x288 with 1 Axes>"
            ],
            "image/png": "[encoded data removed]"
          },
          "metadata": {
            "needs_background": "light"
          }
        }
      ]
    },
    {
      "cell_type": "markdown",
      "source": [
        "# Model testing (CNN)"
      ],
      "metadata": {
        "id": "sX5ErewtUe5f"
      }
    },
    {
      "cell_type": "code",
      "source": [
        "model.load_state_dict(th.load('model.pt'))\n",
        "\n",
        "test_loss = 0.0\n",
        "class_correct = list(0. for i in range(10))\n",
        "class_total = list(0. for i in range(10))\n",
        "\n",
        "model.eval() \n",
        "\n",
        "for data, target in test_loader:\n",
        "    output = model(data)\n",
        "    loss = criterion(output, target)\n",
        "    test_loss += loss.item()*data.size(0)\n",
        "    _, pred = th.max(output, 1)\n",
        "    correct = np.squeeze(pred.eq(target.data.view_as(pred)))\n",
        "    \n",
        "\n",
        "    for i in range(batch_size):\n",
        "        label = target.data[i]\n",
        "        class_correct[label] += correct[i].item()\n",
        "        class_total[label] += 1\n",
        "\n",
        "\n",
        "test_loss = test_loss/len(test_loader.dataset)\n",
        "print('Test Loss: {:.6f}\\n'.format(test_loss))\n",
        "\n",
        "for i in range(10):\n",
        "    if class_total[i] > 0:\n",
        "        print('Test Accuracy of %5s: %2d%% (%2d/%2d)' % (\n",
        "            str(i), 100 * class_correct[i] / class_total[i],\n",
        "            np.sum(class_correct[i]), np.sum(class_total[i])))\n",
        "    else:\n",
        "        print('Test Accuracy of %5s: N/A (no training examples)')\n",
        "\n",
        "print('\\nTest Accuracy (Overall): %2d%% (%2d/%2d)' % (\n",
        "    100. * np.sum(class_correct) / np.sum(class_total),\n",
        "    np.sum(class_correct), np.sum(class_total)))"
      ],
      "metadata": {
        "colab": {
          "base_uri": "https://localhost:8080/"
        },
        "id": "sra-1RALKdND",
        "outputId": "d06eb257-22cc-4d81-eebe-16ae74242ef6"
      },
      "execution_count": 18,
      "outputs": [
        {
          "output_type": "stream",
          "name": "stdout",
          "text": [
            "Test Loss: 0.023853\n",
            "\n",
            "Test Accuracy of     0: 99% (976/980)\n",
            "Test Accuracy of     1: 99% (1132/1135)\n",
            "Test Accuracy of     2: 99% (1026/1032)\n",
            "Test Accuracy of     3: 99% (1003/1010)\n",
            "Test Accuracy of     4: 98% (968/982)\n",
            "Test Accuracy of     5: 99% (884/892)\n",
            "Test Accuracy of     6: 98% (948/958)\n",
            "Test Accuracy of     7: 98% (1017/1028)\n",
            "Test Accuracy of     8: 99% (965/974)\n",
            "Test Accuracy of     9: 99% (999/1009)\n",
            "\n",
            "Test Accuracy (Overall): 99% (9918/10000)\n"
          ]
        }
      ]
    },
    {
      "cell_type": "code",
      "source": [],
      "metadata": {
        "id": "qO-N7Z7kKewq"
      },
      "execution_count": null,
      "outputs": []
    }
  ]
}